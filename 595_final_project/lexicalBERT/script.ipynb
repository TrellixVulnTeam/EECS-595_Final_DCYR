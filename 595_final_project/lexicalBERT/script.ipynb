{
 "cells": [
  {
   "cell_type": "code",
   "execution_count": 5,
   "source": [
    "from torchkge.utils.datasets import load_wn18rr\n",
    "from transformers import BertTokenizer, BertModel\n",
    "# Load dataset\n",
    "kg = load_wn18rr()\n",
    "tokenizer = BertTokenizer.from_pretrained('bert-base-uncased')"
   ],
   "outputs": [],
   "metadata": {}
  },
  {
   "cell_type": "code",
   "execution_count": 6,
   "source": [
    "from nltk.corpus import wordnet as wn\n",
    "# kg_train.ent2ix\n",
    "bert2wn = {}\n",
    "\n",
    "for token, id in tokenizer.vocab.items():\n",
    "    synsets = wn.synsets(token)\n",
    "    synset_idx = [kg.ent2ix[synset.name()] for synset in synsets if synset.name() in kg.ent2ix]\n",
    "    bert2wn[int(id)] = synset_idx\n"
   ],
   "outputs": [],
   "metadata": {}
  },
  {
   "cell_type": "code",
   "execution_count": 7,
   "source": [
    "import json\n",
    "\n",
    "with open('bert2wn.json', 'w', encoding='utf-8') as file:\n",
    "    file.write(json.dumps(bert2wn, indent=4))\n",
    "# json.dumps(bert2wn)"
   ],
   "outputs": [],
   "metadata": {}
  },
  {
   "cell_type": "code",
   "execution_count": 4,
   "source": [
    "import torch\n",
    "from torch import nn\n",
    "from transformers import BertTokenizer\n",
    "from models.modeling_bert import BertModel, BertForMaskedLM\n",
    "\n",
    "model = BertForMaskedLM.from_pretrained('bert-base-uncased')\n",
    "tokenizer = BertTokenizer.from_pretrained(\"bert-base-uncased\")"
   ],
   "outputs": [
    {
     "output_type": "display_data",
     "data": {
      "application/vnd.jupyter.widget-view+json": {
       "version_major": 2,
       "version_minor": 0,
       "model_id": "6e23ac3120e14e80b18e1a2a6556add0"
      },
      "text/plain": [
       "  0%|          | 0/1000 [00:00<?, ?epoch/s]"
      ]
     },
     "metadata": {}
    },
    {
     "output_type": "stream",
     "name": "stderr",
     "text": [
      "Some weights of the model checkpoint at bert-base-uncased were not used when initializing BertForMaskedLM: ['cls.seq_relationship.weight', 'cls.seq_relationship.bias']\n",
      "- This IS expected if you are initializing BertForMaskedLM from the checkpoint of a model trained on another task or with another architecture (e.g. initializing a BertForSequenceClassification model from a BertForPreTraining model).\n",
      "- This IS NOT expected if you are initializing BertForMaskedLM from the checkpoint of a model that you expect to be exactly identical (initializing a BertForSequenceClassification model from a BertForSequenceClassification model).\n",
      "Some weights of BertForMaskedLM were not initialized from the model checkpoint at bert-base-uncased and are newly initialized: ['bert.embeddings.wordnet_embeddings.transform.0.bias', 'bert.embeddings.wordnet_embeddings.transform.0.weight', 'bert.embeddings.wordnet_embeddings.embedding.weight']\n",
      "You should probably TRAIN this model on a down-stream task to be able to use it for predictions and inference.\n"
     ]
    }
   ],
   "metadata": {}
  },
  {
   "cell_type": "code",
   "execution_count": 7,
   "source": [
    "inputs = tokenizer(\"I want to [MASK] to school.\", return_tensors='pt')\n",
    "labels = tokenizer(\"I want to go to school.\", return_tensors='pt')['input_ids'].cuda()\n",
    "for k, v in inputs.items():\n",
    "    inputs[k] = v.cuda()\n",
    "\n",
    "model.eval()\n",
    "model.cuda()\n",
    "\n",
    "with torch.no_grad():\n",
    "    outputs = model(**inputs, labels=labels)"
   ],
   "outputs": [],
   "metadata": {}
  },
  {
   "cell_type": "code",
   "execution_count": 14,
   "source": [
    "print(outputs.loss)\n",
    "output_ids = torch.argmax(outputs.logits, dim=2)\n",
    "print(output_ids)\n",
    "print(tokenizer.batch_decode(output_ids))"
   ],
   "outputs": [
    {
     "output_type": "stream",
     "name": "stdout",
     "text": [
      "tensor(3.3037, device='cuda:0')\n",
      "tensor([[1012, 1045, 2215, 2000, 2175, 2000, 2082, 1012, 1012]],\n",
      "       device='cuda:0')\n",
      "['. i want to go to school..']\n"
     ]
    }
   ],
   "metadata": {}
  }
 ],
 "metadata": {
  "orig_nbformat": 4,
  "language_info": {
   "name": "python",
   "version": "3.7.11",
   "mimetype": "text/x-python",
   "codemirror_mode": {
    "name": "ipython",
    "version": 3
   },
   "pygments_lexer": "ipython3",
   "nbconvert_exporter": "python",
   "file_extension": ".py"
  },
  "kernelspec": {
   "name": "python3",
   "display_name": "Python 3.7.11 64-bit ('lama37': conda)"
  },
  "interpreter": {
   "hash": "3bc7a42b19e200bbabb49392a47b29c601db83012463567eab0a9add0e1493b6"
  }
 },
 "nbformat": 4,
 "nbformat_minor": 2
}